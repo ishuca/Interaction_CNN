{
 "cells": [
  {
   "cell_type": "markdown",
   "metadata": {},
   "source": [
    "# Interaction Convolution [상호작용을 반영한 convolution]\n",
    "\n",
    "convolution 에서 filter [W] 는 학습될 수 있는 가중치이고,\n",
    "image patch[X] 와 곱해져 feature map 을 생성한다.\n",
    "\n",
    "이것은 내가 이해하기로는 image_patch 는 data 고, \n",
    "filter는 beta 값인 채로 linear regression 혹은 linear transform, affine transform 과 같다.\n",
    "\n",
    "그렇다면 선형 회귀에서 사용하듯 interaction term(상호작용 항)을 고려하면 주변 픽셀들 간에 interaction 에 대한 weight 를 학습할 수 있지 않을까?\n",
    "\n",
    "내가 단순하게 구현해보기론 X.T * X 로 feature map 혹은 input 에 대한 interaction 을 구하고 그 interaction 에 대한 convolution을 다시 함으로써 feature map 을 구할 수 있고, \n",
    "이것을 원래의 feature map과 더함으로써\n",
    "상호작용 항이 고려된 feature map 을 구할 수 있을 거라 생각한다.\n",
    "\n",
    "cifar10 학습해본 결과\n",
    "\n",
    "일반적인 cnn 보다 학습이 조금 더 빨리 되는 것을 알 수 있었다.\n",
    "\n",
    "------------------------------------------------------------------------------------------------------------------\n",
    "foot translation\n",
    "\n",
    "In convolution, filter[W] is learnable weight, and then feature map produced by that image patch multiply filter \n",
    "\n",
    "I think image_patch is data, filter is coefficient, and then it is linear regression or linear transform, affine transform.\n",
    "\n",
    "If we take the interaction term as in linear regression, can we learn the weight of the interaction between the neighboring pixels?\n",
    "\n",
    "I simply implement it, input or feature map is X.T * X, convolution it produce feature map. \n",
    "\n",
    "It add original feature map, produce feature map with interacion.\n",
    "\n",
    "Cifar10 results\n",
    "\n",
    "It faster than original cnn"
   ]
  },
  {
   "cell_type": "code",
   "execution_count": 1,
   "metadata": {
    "collapsed": true
   },
   "outputs": [],
   "source": [
    "import tensorflow as tf\n",
    "import matplotlib.pyplot as plt\n",
    "%matplotlib inline\n",
    "from tensorflow.examples.tutorials.mnist import input_data\n",
    "import numpy as np\n",
    "tf.set_random_seed(777) \n",
    "import cifar10"
   ]
  },
  {
   "cell_type": "code",
   "execution_count": 2,
   "metadata": {
    "collapsed": false,
    "scrolled": true
   },
   "outputs": [
    {
     "name": "stdout",
     "output_type": "stream",
     "text": [
      "Data has apparently already been downloaded and unpacked.\n"
     ]
    }
   ],
   "source": [
    "cifar10.maybe_download_and_extract()"
   ]
  },
  {
   "cell_type": "code",
   "execution_count": 3,
   "metadata": {
    "collapsed": false
   },
   "outputs": [
    {
     "name": "stdout",
     "output_type": "stream",
     "text": [
      "Loading data: data/CIFAR-10/cifar-10-batches-py/data_batch_1\n",
      "Loading data: data/CIFAR-10/cifar-10-batches-py/data_batch_2\n",
      "Loading data: data/CIFAR-10/cifar-10-batches-py/data_batch_3\n",
      "Loading data: data/CIFAR-10/cifar-10-batches-py/data_batch_4\n",
      "Loading data: data/CIFAR-10/cifar-10-batches-py/data_batch_5\n"
     ]
    }
   ],
   "source": [
    "images_train, cls_train, labels_train = cifar10.load_training_data()"
   ]
  },
  {
   "cell_type": "code",
   "execution_count": 4,
   "metadata": {
    "collapsed": false
   },
   "outputs": [
    {
     "name": "stdout",
     "output_type": "stream",
     "text": [
      "Loading data: data/CIFAR-10/cifar-10-batches-py/test_batch\n"
     ]
    }
   ],
   "source": [
    "images_test, cls_test, labels_test = cifar10.load_test_data()"
   ]
  },
  {
   "cell_type": "code",
   "execution_count": 5,
   "metadata": {
    "collapsed": true
   },
   "outputs": [],
   "source": [
    "def random_batch(train_batch_size):\n",
    "    # 학습 데이터셋 안에 이미지 수\n",
    "    num_images = len(images_train)\n",
    "\n",
    "    # 무작위 인덱스 만들기\n",
    "    idx = np.random.choice(num_images,\n",
    "                           size=train_batch_size,\n",
    "                           replace=False)\n",
    "\n",
    "    # 무작위 인덱스를 이용해 이미지와 라벨을 선택함\n",
    "    x_batch = images_train[idx, :, :, :]\n",
    "    y_batch = labels_train[idx, :]\n",
    "\n",
    "    return x_batch, y_batch"
   ]
  },
  {
   "cell_type": "markdown",
   "metadata": {},
   "source": [
    "# 상호작용이 반영된 CNN"
   ]
  },
  {
   "cell_type": "code",
   "execution_count": 6,
   "metadata": {
    "collapsed": false,
    "scrolled": true
   },
   "outputs": [
    {
     "name": "stdout",
     "output_type": "stream",
     "text": [
      "Epoch: 0001 cost = 1.525525022\n",
      "Epoch: 0002 cost = 1.257694640\n",
      "Epoch: 0003 cost = 1.166033215\n",
      "Epoch: 0004 cost = 1.101056453\n",
      "Epoch: 0005 cost = 1.059084578\n",
      "Epoch: 0006 cost = 1.011964905\n",
      "Epoch: 0007 cost = 0.968527456\n",
      "Epoch: 0008 cost = 0.956996769\n",
      "Epoch: 0009 cost = 0.932130665\n",
      "Epoch: 0010 cost = 0.913818698\n"
     ]
    },
    {
     "data": {
      "image/png": "[encoded data removed]",
      "text/plain": [
       "<matplotlib.figure.Figure at 0x1fb49852ac8>"
      ]
     },
     "metadata": {},
     "output_type": "display_data"
    },
    {
     "name": "stdout",
     "output_type": "stream",
     "text": [
      "Accuracy: 0.5764\n"
     ]
    }
   ],
   "source": [
    "tf.reset_default_graph()\n",
    "X_img = tf.placeholder(tf.float32, shape=[None, 32,32,3])\n",
    "X = tf.reshape(X_img, [-1,32,32,3])\n",
    "Y = tf.placeholder(tf.uint8 , shape = [None , 10])\n",
    "conv1 = tf.layers.conv2d(X,32,3,activation=tf.nn.elu)\n",
    "conv11_interaction = tf.layers.conv2d(tf.multiply(X, tf.transpose(X,[0,2,1,3])),32,3,activation=tf.nn.elu)\n",
    "conv11_add = tf.add(conv1,conv11_interaction)\n",
    "conv11_pooling = tf.layers.max_pooling2d(conv11_add,2,2)\n",
    "conv11_flatten = tf.reshape(conv11_pooling,[-1,conv11_pooling.get_shape()[1:4].num_elements()])\n",
    "dense1 = tf.layers.dense(conv11_flatten,128)\n",
    "dense2 = tf.layers.dense(dense1,10)\n",
    "cost = tf.reduce_mean(tf.nn.softmax_cross_entropy_with_logits(labels=Y, logits=dense2))\n",
    "optimizer = tf.train.AdamOptimizer().minimize(cost)\n",
    "costs = []\n",
    "batch_size = 32\n",
    "training_epochs = 10\n",
    "sess = tf.Session()\n",
    "sess.run(tf.global_variables_initializer())\n",
    "for epoch in range(training_epochs):\n",
    "    avg_cost = 0\n",
    "    total_batch = int(images_train.shape[0] / batch_size)\n",
    "\n",
    "    for i in range(total_batch):\n",
    "        batch_xs, batch_ys = random_batch(batch_size)\n",
    "        feed_dict = {X_img: batch_xs, Y: batch_ys}\n",
    "        c, _ = sess.run([cost, optimizer], feed_dict=feed_dict)\n",
    "        avg_cost += c / total_batch\n",
    "    costs.append(avg_cost)\n",
    "    print('Epoch:', '%04d' % (epoch + 1), 'cost =', '{:.9f}'.format(avg_cost))\n",
    "plt.plot(costs)\n",
    "plt.show()\n",
    "correct_prediction = tf.equal(tf.argmax(dense2, 1), tf.argmax(Y, 1))\n",
    "accuracy = tf.reduce_mean(tf.cast(correct_prediction, tf.float32))\n",
    "print('Accuracy:', sess.run(accuracy, feed_dict={\n",
    "      X_img: images_test, Y: labels_test}))"
   ]
  },
  {
   "cell_type": "markdown",
   "metadata": {},
   "source": [
    "# 일반적인 CNN"
   ]
  },
  {
   "cell_type": "code",
   "execution_count": 7,
   "metadata": {
    "collapsed": false
   },
   "outputs": [
    {
     "name": "stdout",
     "output_type": "stream",
     "text": [
      "Epoch: 0001 cost = 1.502513721\n",
      "Epoch: 0002 cost = 1.260068155\n",
      "Epoch: 0003 cost = 1.169101817\n",
      "Epoch: 0004 cost = 1.109899973\n",
      "Epoch: 0005 cost = 1.067770822\n",
      "Epoch: 0006 cost = 1.027605854\n",
      "Epoch: 0007 cost = 0.998852198\n",
      "Epoch: 0008 cost = 0.978262731\n",
      "Epoch: 0009 cost = 0.948536852\n",
      "Epoch: 0010 cost = 0.939814833\n"
     ]
    },
    {
     "data": {
      "image/png": "[encoded data removed]",
      "text/plain": [
       "<matplotlib.figure.Figure at 0x1fb660fd4a8>"
      ]
     },
     "metadata": {},
     "output_type": "display_data"
    },
    {
     "name": "stdout",
     "output_type": "stream",
     "text": [
      "Accuracy: 0.5875\n"
     ]
    }
   ],
   "source": [
    "tf.reset_default_graph()\n",
    "X_img = tf.placeholder(tf.float32, shape=[None, 32,32,3])\n",
    "X = tf.reshape(X_img, [-1,32,32,3])\n",
    "Y = tf.placeholder(tf.uint8 , shape = [None , 10])\n",
    "conv1 = tf.layers.conv2d(X,32,3,activation=tf.nn.elu)\n",
    "conv11_pooling = tf.layers.max_pooling2d(conv1,2,2)\n",
    "conv11_flatten = tf.reshape(conv11_pooling,[-1,conv11_pooling.get_shape()[1:4].num_elements()])\n",
    "dense1 = tf.layers.dense(conv11_flatten,128)\n",
    "dense2 = tf.layers.dense(dense1,10)\n",
    "cost = tf.reduce_mean(tf.nn.softmax_cross_entropy_with_logits(labels=Y, logits=dense2))\n",
    "optimizer = tf.train.AdamOptimizer().minimize(cost)\n",
    "costs = []\n",
    "batch_size = 32\n",
    "training_epochs = 10\n",
    "sess = tf.Session()\n",
    "sess.run(tf.global_variables_initializer())\n",
    "for epoch in range(training_epochs):\n",
    "    avg_cost = 0\n",
    "    total_batch = int(images_train.shape[0] / batch_size)\n",
    "\n",
    "    for i in range(total_batch):\n",
    "        batch_xs, batch_ys = random_batch(batch_size)\n",
    "        feed_dict = {X_img: batch_xs, Y: batch_ys}\n",
    "        c, _ = sess.run([cost, optimizer], feed_dict=feed_dict)\n",
    "        avg_cost += c / total_batch\n",
    "    costs.append(avg_cost)\n",
    "    print('Epoch:', '%04d' % (epoch + 1), 'cost =', '{:.9f}'.format(avg_cost))\n",
    "plt.plot(costs)\n",
    "plt.show()\n",
    "correct_prediction = tf.equal(tf.argmax(dense2, 1), tf.argmax(Y, 1))\n",
    "accuracy = tf.reduce_mean(tf.cast(correct_prediction, tf.float32))\n",
    "print('Accuracy:', sess.run(accuracy, feed_dict={\n",
    "      X_img: images_test, Y: labels_test}))"
   ]
  },
  {
   "cell_type": "code",
   "execution_count": null,
   "metadata": {
    "collapsed": true
   },
   "outputs": [],
   "source": []
  }
 ],
 "metadata": {
  "anaconda-cloud": {},
  "kernelspec": {
   "display_name": "Python [conda root]",
   "language": "python",
   "name": "conda-root-py"
  },
  "language_info": {
   "codemirror_mode": {
    "name": "ipython",
    "version": 3
   },
   "file_extension": ".py",
   "mimetype": "text/x-python",
   "name": "python",
   "nbconvert_exporter": "python",
   "pygments_lexer": "ipython3",
   "version": "3.5.2"
  }
 },
 "nbformat": 4,
 "nbformat_minor": 1
}
